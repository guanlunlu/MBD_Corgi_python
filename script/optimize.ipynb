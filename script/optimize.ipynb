{
 "cells": [
  {
   "cell_type": "code",
   "execution_count": 2,
   "metadata": {},
   "outputs": [],
   "source": [
    "from cpg_fsm import *\n",
    "from scipy.optimize import minimize"
   ]
  },
  {
   "cell_type": "code",
   "execution_count": null,
   "metadata": {},
   "outputs": [],
   "source": [
    "def getBezierSet(bezier_profile):\n",
    "    h, dh, L, dL1, dL2, dL3, dL4 = bezier_profile\n",
    "\n",
    "    c0 = cp1\n",
    "    c1 = c0 - np.array([dL1, 0])\n",
    "    c2 = c1 - np.array([dL2, 0]) + np.array([0, h])\n",
    "    c3 = c2\n",
    "    c4 = c2\n",
    "    c5 = c4 + np.array([0.5 * L + dL1 + dL2, 0])\n",
    "    c6 = c5\n",
    "    c7 = c5 + np.array([0, dh])\n",
    "    c8 = c7 + np.array([0.5 * L + dL3 + dL4, 0])\n",
    "    c9 = c8\n",
    "    c10 = c8 - np.array([dL4, h + dh])\n",
    "    c11 = c10 - np.array([dL3, 0])\n",
    "    c_set = np.array([c0, c1, c2, c3, c4, c5, c6, c7, c8, c9, c10, c11])\n",
    "    pass\n",
    "\n",
    "def workspaceConstraintR1(bezier_profile):\n",
    "    h, dh, L, dL1, dL2, dL3, dL4 = bezier_profile\n",
    "    \n",
    "    pass\n",
    "\n",
    "def workspaceConstraintR2(B):\n",
    "    pass\n",
    "\n",
    "def workspaceConstraintL3(B):\n",
    "    pass"
   ]
  },
  {
   "cell_type": "code",
   "execution_count": 6,
   "metadata": {},
   "outputs": [
    {
     "name": "stdout",
     "output_type": "stream",
     "text": [
      "Standing Up ...\n",
      "Time Elapsed =  0.013197660446166992\n"
     ]
    }
   ],
   "source": [
    "loop_freq = 1000  # Hz\n",
    "FSM = FiniteStateMachine(loop_freq)\n",
    "CORGI = Corgi(loop_freq, FSM)\n",
    "\n",
    "CORGI.standUp(0.8)\n",
    "CORGI.move()\n",
    "# CORGI.visualize()"
   ]
  }
 ],
 "metadata": {
  "kernelspec": {
   "display_name": "Python 3",
   "language": "python",
   "name": "python3"
  },
  "language_info": {
   "codemirror_mode": {
    "name": "ipython",
    "version": 3
   },
   "file_extension": ".py",
   "mimetype": "text/x-python",
   "name": "python",
   "nbconvert_exporter": "python",
   "pygments_lexer": "ipython3",
   "version": "3.10.12"
  },
  "orig_nbformat": 4
 },
 "nbformat": 4,
 "nbformat_minor": 2
}
