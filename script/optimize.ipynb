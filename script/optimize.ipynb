{
 "cells": [
  {
   "cell_type": "code",
   "execution_count": 1,
   "metadata": {},
   "outputs": [],
   "source": [
    "from cpg_fsm import *\n",
    "from scipy.optimize import minimize"
   ]
  },
  {
   "cell_type": "code",
   "execution_count": 2,
   "metadata": {},
   "outputs": [],
   "source": [
    "loop_freq = 100  # Hz\n",
    "FSM = FiniteStateMachine(loop_freq)\n",
    "t = time.time()"
   ]
  },
  {
   "cell_type": "code",
   "execution_count": 3,
   "metadata": {},
   "outputs": [],
   "source": [
    "def getTrajectoryCost(bezier_profiles):\n",
    "    global t\n",
    "    print(\"t\", time.time()-t)\n",
    "    t = time.time()\n",
    "    bp = bezier_profiles.reshape(4, -1)\n",
    "    CORGI = Corgi(loop_freq, FSM)\n",
    "    CORGI.standUp(0.8)\n",
    "    CORGI.move(swing_profile=bp)\n",
    "    # print(CORGI.cost)\n",
    "    return CORGI.cost\n",
    "    "
   ]
  },
  {
   "cell_type": "code",
   "execution_count": 11,
   "metadata": {},
   "outputs": [
    {
     "name": "stderr",
     "output_type": "stream",
     "text": [
      "/home/guanlunlu/.local/lib/python3.10/site-packages/scipy/optimize/_minimize.py:569: RuntimeWarning: Method Newton-CG cannot handle bounds.\n",
      "  warn('Method %s cannot handle bounds.' % method,\n"
     ]
    },
    {
     "ename": "ValueError",
     "evalue": "Jacobian is required for Newton-CG method",
     "output_type": "error",
     "traceback": [
      "\u001b[0;31m---------------------------------------------------------------------------\u001b[0m",
      "\u001b[0;31mValueError\u001b[0m                                Traceback (most recent call last)",
      "Cell \u001b[0;32mIn[11], line 19\u001b[0m\n\u001b[1;32m     13\u001b[0m \u001b[39m# h, dh, dL1, dL2, dL3, dL4 = bezier_profile\u001b[39;00m\n\u001b[1;32m     14\u001b[0m bnds \u001b[39m=\u001b[39m (bnd_H, bnd_dH, bnd_L1, bnd_L2, bnd_L3, bnd_L4,\n\u001b[1;32m     15\u001b[0m         bnd_H, bnd_dH, bnd_L1, bnd_L2, bnd_L3, bnd_L4,\n\u001b[1;32m     16\u001b[0m         bnd_H, bnd_dH, bnd_L1, bnd_L2, bnd_L3, bnd_L4,\n\u001b[1;32m     17\u001b[0m         bnd_H, bnd_dH, bnd_L1, bnd_L2, bnd_L3, bnd_L4)\n\u001b[0;32m---> 19\u001b[0m min_ \u001b[39m=\u001b[39m minimize(getTrajectoryCost, bez_prof_init, method\u001b[39m=\u001b[39;49m\u001b[39m'\u001b[39;49m\u001b[39mNewton-CG\u001b[39;49m\u001b[39m'\u001b[39;49m,bounds\u001b[39m=\u001b[39;49mbnds, options\u001b[39m=\u001b[39;49m{\u001b[39m'\u001b[39;49m\u001b[39mdisp\u001b[39;49m\u001b[39m'\u001b[39;49m: \u001b[39mTrue\u001b[39;49;00m})\n",
      "File \u001b[0;32m~/.local/lib/python3.10/site-packages/scipy/optimize/_minimize.py:693\u001b[0m, in \u001b[0;36mminimize\u001b[0;34m(fun, x0, args, method, jac, hess, hessp, bounds, constraints, tol, callback, options)\u001b[0m\n\u001b[1;32m    691\u001b[0m     res \u001b[39m=\u001b[39m _minimize_bfgs(fun, x0, args, jac, callback, \u001b[39m*\u001b[39m\u001b[39m*\u001b[39moptions)\n\u001b[1;32m    692\u001b[0m \u001b[39melif\u001b[39;00m meth \u001b[39m==\u001b[39m \u001b[39m'\u001b[39m\u001b[39mnewton-cg\u001b[39m\u001b[39m'\u001b[39m:\n\u001b[0;32m--> 693\u001b[0m     res \u001b[39m=\u001b[39m _minimize_newtoncg(fun, x0, args, jac, hess, hessp, callback,\n\u001b[1;32m    694\u001b[0m                              \u001b[39m*\u001b[39;49m\u001b[39m*\u001b[39;49moptions)\n\u001b[1;32m    695\u001b[0m \u001b[39melif\u001b[39;00m meth \u001b[39m==\u001b[39m \u001b[39m'\u001b[39m\u001b[39ml-bfgs-b\u001b[39m\u001b[39m'\u001b[39m:\n\u001b[1;32m    696\u001b[0m     res \u001b[39m=\u001b[39m _minimize_lbfgsb(fun, x0, args, jac, bounds,\n\u001b[1;32m    697\u001b[0m                            callback\u001b[39m=\u001b[39mcallback, \u001b[39m*\u001b[39m\u001b[39m*\u001b[39moptions)\n",
      "File \u001b[0;32m~/.local/lib/python3.10/site-packages/scipy/optimize/_optimize.py:1930\u001b[0m, in \u001b[0;36m_minimize_newtoncg\u001b[0;34m(fun, x0, args, jac, hess, hessp, callback, xtol, eps, maxiter, disp, return_all, **unknown_options)\u001b[0m\n\u001b[1;32m   1928\u001b[0m _check_unknown_options(unknown_options)\n\u001b[1;32m   1929\u001b[0m \u001b[39mif\u001b[39;00m jac \u001b[39mis\u001b[39;00m \u001b[39mNone\u001b[39;00m:\n\u001b[0;32m-> 1930\u001b[0m     \u001b[39mraise\u001b[39;00m \u001b[39mValueError\u001b[39;00m(\u001b[39m'\u001b[39m\u001b[39mJacobian is required for Newton-CG method\u001b[39m\u001b[39m'\u001b[39m)\n\u001b[1;32m   1931\u001b[0m fhess_p \u001b[39m=\u001b[39m hessp\n\u001b[1;32m   1932\u001b[0m fhess \u001b[39m=\u001b[39m hess\n",
      "\u001b[0;31mValueError\u001b[0m: Jacobian is required for Newton-CG method"
     ]
    }
   ],
   "source": [
    "bez_prof_init = np.array([[0.06, 0.01, 0.08, -0.04, 0.08, -0.04],\n",
    "                          [0.06, 0.01, 0.08, -0.04, 0.08, -0.04],\n",
    "                          [0.06, 0.01, 0.08, -0.04, 0.08, -0.04],\n",
    "                          [0.06, 0.01, 0.08, -0.04, 0.08, -0.04]])\n",
    "bez_prof_init = bez_prof_init.reshape(1, -1)[0]\n",
    "\n",
    "bnd_H = (0.05, 0.4)\n",
    "bnd_dH = (0, 0.1)\n",
    "bnd_L1 = (0.1, 0.6)\n",
    "bnd_L3 = (0.1, 0.6)\n",
    "bnd_L2 = (-0.4, 0.4)\n",
    "bnd_L4 = (-0.4, 0.4)\n",
    "# h, dh, dL1, dL2, dL3, dL4 = bezier_profile\n",
    "bnds = (bnd_H, bnd_dH, bnd_L1, bnd_L2, bnd_L3, bnd_L4,\n",
    "        bnd_H, bnd_dH, bnd_L1, bnd_L2, bnd_L3, bnd_L4,\n",
    "        bnd_H, bnd_dH, bnd_L1, bnd_L2, bnd_L3, bnd_L4,\n",
    "        bnd_H, bnd_dH, bnd_L1, bnd_L2, bnd_L3, bnd_L4)\n",
    "\n",
    "min_ = minimize(getTrajectoryCost, bez_prof_init, method='Nelder-Mead',bounds=bnds, options={'disp': True})"
   ]
  },
  {
   "cell_type": "code",
   "execution_count": 7,
   "metadata": {},
   "outputs": [
    {
     "name": "stdout",
     "output_type": "stream",
     "text": [
      "[ 0.06  0.01  0.1  -0.04  0.1  -0.04  0.06  0.01  0.1  -0.04  0.1  -0.04\n",
      "  0.06  0.01  0.1  -0.04  0.1  -0.04  0.06  0.01  0.1  -0.04  0.1  -0.04]\n"
     ]
    }
   ],
   "source": [
    "print(min_.x)"
   ]
  }
 ],
 "metadata": {
  "kernelspec": {
   "display_name": "Python 3",
   "language": "python",
   "name": "python3"
  },
  "language_info": {
   "codemirror_mode": {
    "name": "ipython",
    "version": 3
   },
   "file_extension": ".py",
   "mimetype": "text/x-python",
   "name": "python",
   "nbconvert_exporter": "python",
   "pygments_lexer": "ipython3",
   "version": "3.10.12"
  },
  "orig_nbformat": 4
 },
 "nbformat": 4,
 "nbformat_minor": 2
}
