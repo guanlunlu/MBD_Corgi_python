{
 "cells": [
  {
   "cell_type": "code",
   "execution_count": null,
   "metadata": {},
   "outputs": [],
   "source": [
    "import numpy as np\n",
    "import time\n",
    "from DataProcess import *"
   ]
  },
  {
   "cell_type": "code",
   "execution_count": null,
   "metadata": {},
   "outputs": [],
   "source": [
    "sbrio_filepath = \"../exp_data/20230718/1/sbrio.csv\"\n",
    "vicon_filepath = \"../exp_data/20230718/1/vicon.csv\"\n",
    "orin_filepath = \"../exp_data/20230718/1/orin.csv\"\n",
    "\n",
    "expdata = ExperimentData(sbrio_filepath, vicon_filepath, orin_filepath)\n",
    "expdata.importViconData()\n",
    "expdata.importSbrioData()\n",
    "expdata.importImuData()\n",
    "expdata.alignData()"
   ]
  },
  {
   "cell_type": "code",
   "execution_count": null,
   "metadata": {},
   "outputs": [],
   "source": [
    "t = time.time()\n",
    "threads = []\n",
    "\n",
    "for i in range(4):\n",
    "    threads.append(threading.Thread(target=iterFtip,\n",
    "                    args=(expdata.aligned_full_data, i)))\n",
    "    threads[i].start()\n",
    "\n",
    "for i in range(4):\n",
    "    threads[i].join()\n",
    "\n",
    "print(\"Elapsed: \", time.time() - t)"
   ]
  },
  {
   "cell_type": "code",
   "execution_count": null,
   "metadata": {},
   "outputs": [],
   "source": [
    "# Save Results of Virtual Work Method (by Numerical Diff. Jacobian) F_tip\n",
    "import dill\n",
    "file = \"./serialized_object/Ftip_iterated_expdata_1.pkl\"\n",
    "with open(file, 'wb') as d:\n",
    "    dill.dump(expdata, d)"
   ]
  },
  {
   "cell_type": "code",
   "execution_count": null,
   "metadata": {},
   "outputs": [],
   "source": []
  }
 ],
 "metadata": {
  "kernelspec": {
   "display_name": "Python 3",
   "language": "python",
   "name": "python3"
  },
  "language_info": {
   "codemirror_mode": {
    "name": "ipython",
    "version": 3
   },
   "file_extension": ".py",
   "mimetype": "text/x-python",
   "name": "python",
   "nbconvert_exporter": "python",
   "pygments_lexer": "ipython3",
   "version": "3.10.6"
  },
  "orig_nbformat": 4
 },
 "nbformat": 4,
 "nbformat_minor": 2
}
