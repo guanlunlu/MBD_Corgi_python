{
 "cells": [
  {
   "cell_type": "code",
   "execution_count": null,
   "metadata": {},
   "outputs": [],
   "source": [
    "from cpg_fsm import *\n",
    "from scipy.optimize import minimize\n",
    "from scipy.optimize import differential_evolution"
   ]
  },
  {
   "cell_type": "code",
   "execution_count": null,
   "metadata": {},
   "outputs": [],
   "source": [
    "loop_freq = 100  # Hz\n",
    "FSM = FiniteStateMachine(loop_freq)\n",
    "t = time.time()\n",
    "iter = 0"
   ]
  },
  {
   "cell_type": "code",
   "execution_count": null,
   "metadata": {},
   "outputs": [],
   "source": [
    "def getTrajectoryCost(bezier_profiles):\n",
    "    global iter\n",
    "    global t\n",
    "    print(\"t\", time.time()-t)\n",
    "    t = time.time()\n",
    "    bp = bezier_profiles.reshape(4, -1)\n",
    "    print(bp[3])\n",
    "    CORGI = Corgi(loop_freq, FSM)\n",
    "    CORGI.standUp(0.8)\n",
    "    CORGI.move(swing_profile=bp)\n",
    "    print(\"iter\", iter,\"cost\",CORGI.cost)\n",
    "    iter += 1\n",
    "    return CORGI.cost\n",
    "    "
   ]
  },
  {
   "cell_type": "code",
   "execution_count": null,
   "metadata": {},
   "outputs": [],
   "source": [
    "bez_prof_init = np.array([[0.06, 0.01, 0.15, 0.05, 0.08, 0.06],\n",
    "                          [0.06, 0.01, 0.15, 0.05, 0.08, 0.06],\n",
    "                          [0.06, 0.01, 0.08, 0.05, 0.02, 0.1],\n",
    "                          [0.06, 0.01, 0.08, 0.05, 0.02, 0.1]])\n",
    "bez_prof_init = bez_prof_init.reshape(1, -1)[0]\n",
    "\n",
    "step_height = 0.05\n",
    "bnd_H = (step_height, 0.085)\n",
    "bnd_dH = (0, 0.02)\n",
    "\n",
    "f_bnd_L1 = (0.01, 0.15)\n",
    "f_bnd_L2 = (-0.13, 0.1)\n",
    "f_bnd_L3 = (0.01, 0.09)\n",
    "f_bnd_L4 = (-0.13, 0.1)\n",
    "\n",
    "h_bnd_L1 = (0.01, 0.1)\n",
    "h_bnd_L2 = (-0.25, 0.1)\n",
    "h_bnd_L3 = (0.01, 0.03)\n",
    "h_bnd_L4 = (-0.1, 0.1)\n",
    "\n",
    "\n",
    "# h, dh, dL1, dL2, dL3, dL4 = bezier_profile\n",
    "bnds = [bnd_H, bnd_dH, f_bnd_L1, f_bnd_L2, f_bnd_L3, f_bnd_L4,\n",
    "        bnd_H, bnd_dH, f_bnd_L1, f_bnd_L2, f_bnd_L3, f_bnd_L4,\n",
    "        bnd_H, bnd_dH, h_bnd_L1, h_bnd_L2, h_bnd_L3, h_bnd_L4,\n",
    "        bnd_H, bnd_dH, h_bnd_L1, h_bnd_L2, h_bnd_L3, h_bnd_L4]\n",
    "result = differential_evolution(getTrajectoryCost, bnds, recombination=0.5, seed=1, workers=-1)\n",
    "# min_ = minimize(getTrajectoryCost, bez_prof_init, method='Nelder-Mead',bounds=bnds, options={'disp': True, 'maxiter': 1000})\n",
    "# min_ = minimize(getTrajectoryCost, bez_prof_init, method='SLSQP',bounds=bnds, options={'disp': True})"
   ]
  },
  {
   "cell_type": "code",
   "execution_count": null,
   "metadata": {},
   "outputs": [],
   "source": [
    "print(repr(result.x))"
   ]
  }
 ],
 "metadata": {
  "kernelspec": {
   "display_name": "Python 3",
   "language": "python",
   "name": "python3"
  },
  "language_info": {
   "codemirror_mode": {
    "name": "ipython",
    "version": 3
   },
   "file_extension": ".py",
   "mimetype": "text/x-python",
   "name": "python",
   "nbconvert_exporter": "python",
   "pygments_lexer": "ipython3",
   "version": "3.8.10"
  },
  "orig_nbformat": 4
 },
 "nbformat": 4,
 "nbformat_minor": 2
}
