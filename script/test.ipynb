{
 "cells": [
  {
   "cell_type": "code",
   "execution_count": 1,
   "metadata": {},
   "outputs": [],
   "source": [
    "import numpy as np"
   ]
  },
  {
   "cell_type": "code",
   "execution_count": 5,
   "metadata": {},
   "outputs": [
    {
     "name": "stdout",
     "output_type": "stream",
     "text": [
      "[[0 0 1]] [[1 2 3]]\n",
      "[[-2  1  0]]\n"
     ]
    }
   ],
   "source": [
    "a = np.array([[0], [0], [1]])\n",
    "b = np.array([[1], [2], [3]])\n",
    "c = np.cross(a.T,b.T)\n",
    "print(a.T, b.T)\n",
    "print(c)"
   ]
  },
  {
   "cell_type": "code",
   "execution_count": 15,
   "metadata": {},
   "outputs": [
    {
     "name": "stdout",
     "output_type": "stream",
     "text": [
      "[False, False, True]\n"
     ]
    }
   ],
   "source": [
    "print([False,False,True] or [True,False,False])\n",
    "a = [False,False,True]\n",
    "b = [False, False, False]\n",
    "i = \n",
    "for i in range(3):\n",
    "    if a[i]^b[i]: break\n",
    "    "
   ]
  }
 ],
 "metadata": {
  "kernelspec": {
   "display_name": "Python 3",
   "language": "python",
   "name": "python3"
  },
  "language_info": {
   "codemirror_mode": {
    "name": "ipython",
    "version": 3
   },
   "file_extension": ".py",
   "mimetype": "text/x-python",
   "name": "python",
   "nbconvert_exporter": "python",
   "pygments_lexer": "ipython3",
   "version": "3.8.10"
  },
  "orig_nbformat": 4
 },
 "nbformat": 4,
 "nbformat_minor": 2
}
