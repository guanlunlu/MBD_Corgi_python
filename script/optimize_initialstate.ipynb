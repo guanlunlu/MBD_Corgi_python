{
 "cells": [
  {
   "cell_type": "code",
   "execution_count": 1,
   "metadata": {},
   "outputs": [],
   "source": [
    "from multiprocessing.pool import ThreadPool\n",
    "import numpy as np\n",
    "from pymoo.core.problem import ElementwiseProblem\n",
    "from pymoo.core.problem import StarmapParallelization\n",
    "from pymoo.constraints.as_obj import ConstraintsAsObjective\n",
    "from pymoo.constraints.as_penalty import ConstraintsAsPenalty\n",
    "from pymoo.algorithms.moo.nsga2 import NSGA2\n",
    "from pymoo.operators.crossover.sbx import SBX\n",
    "from pymoo.operators.mutation.pm import PM\n",
    "from pymoo.operators.sampling.rnd import FloatRandomSampling\n",
    "from pymoo.algorithms.soo.nonconvex.pso import PSO\n",
    "from pymoo.optimize import minimize\n",
    "from pymoo.termination import get_termination\n",
    "import optimize as op\n",
    "from cpg_fsm import *\n"
   ]
  },
  {
   "cell_type": "code",
   "execution_count": 2,
   "metadata": {},
   "outputs": [],
   "source": [
    "L = 0.2\n",
    "T_sw = 4\n",
    "H_st = 0.2\n",
    "freq = 100\n",
    "\n",
    "class CorgiInitProblem(ElementwiseProblem):\n",
    "\n",
    "    def __init__(self, **kwargs):\n",
    "        super().__init__(n_var=4,\n",
    "                         n_obj=1,\n",
    "                         n_ieq_constr=24,\n",
    "                         xl = np.array([-0.09, -0.09, -0.09, -0.09]),\n",
    "                         xu = np.array([0.09, 0.09, 0.09, 0.09]),\n",
    "                         **kwargs)\n",
    "\n",
    "    def _evaluate(self, x, out, *args, **kwargs):\n",
    "        FSM = FiniteStateMachine(freq)\n",
    "        corgi = Corgi(freq, FSM)\n",
    "        corgi.step_length = L\n",
    "        corgi.stance_height = H_st\n",
    "        corgi.swing_time = T_sw\n",
    "        corgi.weight_s = 1\n",
    "        corgi.weight_u = 0\n",
    "        corgi.total_cycle = 4\n",
    "\n",
    "        bp = np.array([ 0.04002311,  0.00303396,  0.01000181, -0.01986243,  0.01305118,\n",
    "                        -0.03105092,  0.04006933,  0.00124093,  0.01742723, -0.04600008,\n",
    "                        0.01166539, -0.02441404,  0.04008184,  0.00328895,  0.01020455,\n",
    "                        -0.01692465,  0.01747139, -0.04729206,  0.04011618,  0.00043849,\n",
    "                        0.01602226, -0.04007484,  0.01082458, -0.02170281])\n",
    "        bp = bp.reshape(4,-1)\n",
    "\n",
    "        \n",
    "        tb_a = lk.InverseKinematicsPoly(np.array([[x[0]], [-H_st]]))\n",
    "        tb_b = lk.InverseKinematicsPoly(np.array([[x[1]], [-H_st]]))\n",
    "        tb_c = lk.InverseKinematicsPoly(np.array([[x[2]], [-H_st]]))\n",
    "        tb_d = lk.InverseKinematicsPoly(np.array([[x[3]], [-H_st]]))\n",
    "        corgi.setInitPhase(tb_a, tb_b, tb_c, tb_d)\n",
    "        corgi.move(swing_profile=bp)\n",
    "        f = corgi.cost\n",
    "\n",
    "        out[\"F\"] = [f]\n",
    "\n",
    "# initialize the thread pool and create the runner\n",
    "n_threads = 16\n",
    "pool = ThreadPool(n_threads)\n",
    "runner = StarmapParallelization(pool.starmap)\n",
    "problem = CorgiInitProblem(elementwise_runner=runner, elementwise_evaluation=True)"
   ]
  },
  {
   "cell_type": "code",
   "execution_count": 3,
   "metadata": {},
   "outputs": [],
   "source": [
    "algorithm = NSGA2(\n",
    "    pop_size=16,\n",
    "    n_offsprings=4,\n",
    "    sampling=FloatRandomSampling(),\n",
    "    crossover=SBX(prob=0.9, eta=15),\n",
    "    mutation=PM(eta=20),\n",
    "    eliminate_duplicates=True\n",
    ")\n",
    "\n",
    "termination = get_termination(\"n_gen\", 100)\n",
    "\n",
    "result = minimize(problem,\n",
    "                  algorithm,\n",
    "                  termination,\n",
    "                  seed=1,\n",
    "                  save_history=False,\n",
    "                  verbose=False)\n",
    "\n",
    "pool.close()"
   ]
  },
  {
   "cell_type": "code",
   "execution_count": null,
   "metadata": {},
   "outputs": [],
   "source": [
    "print(result.X)\n",
    "print(result.F)"
   ]
  }
 ],
 "metadata": {
  "kernelspec": {
   "display_name": "Python 3",
   "language": "python",
   "name": "python3"
  },
  "language_info": {
   "codemirror_mode": {
    "name": "ipython",
    "version": 3
   },
   "file_extension": ".py",
   "mimetype": "text/x-python",
   "name": "python",
   "nbconvert_exporter": "python",
   "pygments_lexer": "ipython3",
   "version": "3.10.12"
  },
  "orig_nbformat": 4
 },
 "nbformat": 4,
 "nbformat_minor": 2
}
