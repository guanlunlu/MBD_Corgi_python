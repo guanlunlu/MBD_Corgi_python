{
 "cells": [
  {
   "cell_type": "code",
   "execution_count": null,
   "metadata": {},
   "outputs": [],
   "source": [
    "import multiprocessing\n",
    "from multiprocessing.pool import ThreadPool\n",
    "import numpy as np\n",
    "from pymoo.core.problem import ElementwiseProblem\n",
    "from pymoo.core.problem import StarmapParallelization\n",
    "from pymoo.constraints.as_obj import ConstraintsAsObjective\n",
    "from pymoo.constraints.as_penalty import ConstraintsAsPenalty\n",
    "from pymoo.algorithms.moo.nsga2 import NSGA2\n",
    "from pymoo.operators.crossover.sbx import SBX\n",
    "from pymoo.operators.mutation.pm import PM\n",
    "from pymoo.operators.sampling.rnd import FloatRandomSampling\n",
    "from pymoo.algorithms.soo.nonconvex.pso import PSO\n",
    "from pymoo.optimize import minimize\n",
    "\n",
    "import optimize as op\n",
    "\n",
    "class MyProblem(ElementwiseProblem):\n",
    "\n",
    "    def __init__(self):\n",
    "        super().__init__(n_var=2,\n",
    "                         n_obj=2,\n",
    "                         n_ieq_constr=2,\n",
    "                         xl=np.array([-2,-2]),\n",
    "                         xu=np.array([2,2]))\n",
    "\n",
    "    def _evaluate(self, x, out, *args, **kwargs):\n",
    "        f1 = 100 * (x[0]**2 + x[1]**2)\n",
    "        f2 = (x[0]-1)**2 + x[1]**2\n",
    "\n",
    "        g1 = 2*(x[0]-0.1) * (x[0]-0.9) / 0.18\n",
    "        g2 = - 20*(x[0]-0.4) * (x[0]-0.6) / 4.8\n",
    "\n",
    "        out[\"F\"] = [f1, f2]\n",
    "        out[\"G\"] = [g1, g2]\n"
   ]
  },
  {
   "cell_type": "code",
   "execution_count": null,
   "metadata": {},
   "outputs": [],
   "source": [
    "opt = op.corgiOptimize()\n",
    "opt.L = 0.2\n",
    "opt.T_sw = 0.6\n",
    "opt.getLiftoffState()\n",
    "print(\"Initial Cost\", opt.objective(opt.bp_init_guess))\n",
    "\n",
    "\n",
    "class CorgiProblem(ElementwiseProblem):\n",
    "\n",
    "    def __init__(self, **kwargs):\n",
    "        super().__init__(n_var=24,\n",
    "                         n_obj=1,\n",
    "                         n_ieq_constr=24,\n",
    "                         xl=np.array([0.03, 0.00, 0.01, -0.05, 0.01, -0.05,\n",
    "                                      0.03, 0.00, 0.01, -0.05, 0.01, -0.05,\n",
    "                                      0.03, 0.00, 0.01, -0.05, 0.01, -0.05,\n",
    "                                      0.03, 0.00, 0.01, -0.05, 0.01, -0.05]),\n",
    "                         xu=np.array([0.04, 0.02, 1, 0.5, 1, 0.5,\n",
    "                                      0.04, 0.02, 1, 0.5, 1, 0.5,\n",
    "                                      0.04, 0.02, 1, 0.5, 1, 0.5,\n",
    "                                      0.04, 0.02, 1, 0.5, 1, 0.5]),\n",
    "                         **kwargs)\n",
    "\n",
    "    def _evaluate(self, x, out, *args, **kwargs):\n",
    "        f  = opt.objective(x)\n",
    "\n",
    "        g1 = -1 * opt.innerWsPFConstraint(x)\n",
    "        g2 = -1 * opt.outerWsPFConstraint(x)\n",
    "        g3 = np.abs(opt.velocityConstraint(x)) - 0.01\n",
    "        print(\"g3\", np.average(g3))\n",
    "        g = np.hstack((g1, g2))\n",
    "        g = np.hstack((g, g3))\n",
    "\n",
    "        out[\"F\"] = [f]\n",
    "        out[\"G\"] = list(g)\n",
    "\n",
    "# initialize the thread pool and create the runner\n",
    "# n_proccess = 8\n",
    "# pool = multiprocessing.Pool(n_proccess)\n",
    "# runner = StarmapParallelization(pool.starmap)\n",
    "\n",
    "# initialize the thread pool and create the runner\n",
    "n_threads = 16\n",
    "pool = ThreadPool(n_threads)\n",
    "runner = StarmapParallelization(pool.starmap)\n",
    "problem = CorgiProblem(elementwise_runner=runner, elementwise_evaluation=True)\n",
    "# problem = CorgiProblem()\n"
   ]
  },
  {
   "cell_type": "code",
   "execution_count": null,
   "metadata": {},
   "outputs": [],
   "source": [
    "algorithm = NSGA2(\n",
    "    pop_size=60,\n",
    "    n_offsprings=30,\n",
    "    sampling=FloatRandomSampling(),\n",
    "    crossover=SBX(prob=0.9, eta=15),\n",
    "    mutation=PM(eta=20),\n",
    "    eliminate_duplicates=True\n",
    ")\n",
    "# algorithm = PSO()"
   ]
  },
  {
   "cell_type": "code",
   "execution_count": null,
   "metadata": {},
   "outputs": [],
   "source": [
    "from pymoo.termination import get_termination\n",
    "\n",
    "termination = get_termination(\"n_gen\", 100)"
   ]
  },
  {
   "cell_type": "code",
   "execution_count": null,
   "metadata": {},
   "outputs": [],
   "source": [
    "\n",
    "result = minimize(ConstraintsAsPenalty(problem, 1.0),\n",
    "                  algorithm,\n",
    "                  termination,\n",
    "                  seed=1,\n",
    "                  save_history=False,\n",
    "                  verbose=False)\n",
    "\n",
    "pool.close()\n"
   ]
  },
  {
   "cell_type": "code",
   "execution_count": null,
   "metadata": {},
   "outputs": [],
   "source": [
    "print(result.X)\n",
    "print(result.F)\n",
    "min_ = np.min(result.F, axis=0)\n",
    "opt.exportBezierData(result.X)"
   ]
  },
  {
   "cell_type": "code",
   "execution_count": null,
   "metadata": {},
   "outputs": [],
   "source": [
    "opt = op.corgiOptimize()\n",
    "opt.L = 0.2\n",
    "opt.T_sw = 0.6\n",
    "opt.getLiftoffState()\n",
    "print(\"Initial Cost\", opt.objective(result.X))"
   ]
  }
 ],
 "metadata": {
  "kernelspec": {
   "display_name": "Python 3",
   "language": "python",
   "name": "python3"
  },
  "language_info": {
   "codemirror_mode": {
    "name": "ipython",
    "version": 3
   },
   "file_extension": ".py",
   "mimetype": "text/x-python",
   "name": "python",
   "nbconvert_exporter": "python",
   "pygments_lexer": "ipython3",
   "version": "3.8.10"
  },
  "orig_nbformat": 4
 },
 "nbformat": 4,
 "nbformat_minor": 2
}
