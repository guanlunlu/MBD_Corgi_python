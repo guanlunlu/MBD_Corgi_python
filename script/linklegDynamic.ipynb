{
 "cells": [
  {
   "cell_type": "code",
   "execution_count": 1,
   "metadata": {},
   "outputs": [],
   "source": [
    "import simple_model_ode as sm\n",
    "import numpy as np"
   ]
  },
  {
   "cell_type": "code",
   "execution_count": 2,
   "metadata": {},
   "outputs": [
    {
     "name": "stdout",
     "output_type": "stream",
     "text": [
      "Imported Data shape : (8980, 59)\n",
      "First Row : 3410\n",
      "Last row : 8385\n",
      "Trimmed Data shape : (4975, 59)\n"
     ]
    }
   ],
   "source": [
    "filepath = \"../sbrio_data/loadcell/loadcell_data_0519/20230519_sinewave_t_90_45_2_b_0_0_1_22.csv\"\n",
    "sbrio_data = sm.SBRIO_data(filepath)"
   ]
  },
  {
   "cell_type": "code",
   "execution_count": 3,
   "metadata": {},
   "outputs": [
    {
     "name": "stdout",
     "output_type": "stream",
     "text": [
      "(4975, 2)\n"
     ]
    }
   ],
   "source": [
    "# plt.plot(sbrio_data.rpy_pos_phi)\n",
    "# plt.plot(sbrio_data.rpy_vel_phi)\n",
    "# plt.show()\n",
    "print(sbrio_data.rpy_pos_phi.shape)\n",
    "\n"
   ]
  },
  {
   "cell_type": "code",
   "execution_count": 7,
   "metadata": {},
   "outputs": [
    {
     "data": {
      "text/plain": [
       "array([[2],\n",
       "       [4],\n",
       "       [2]])"
      ]
     },
     "execution_count": 7,
     "metadata": {},
     "output_type": "execute_result"
    }
   ],
   "source": [
    "a = np.array([[1],[3],[7],[9]]).T\n",
    "np.diff(a).T"
   ]
  }
 ],
 "metadata": {
  "kernelspec": {
   "display_name": "Python 3",
   "language": "python",
   "name": "python3"
  },
  "language_info": {
   "codemirror_mode": {
    "name": "ipython",
    "version": 3
   },
   "file_extension": ".py",
   "mimetype": "text/x-python",
   "name": "python",
   "nbconvert_exporter": "python",
   "pygments_lexer": "ipython3",
   "version": "3.10.6"
  },
  "orig_nbformat": 4
 },
 "nbformat": 4,
 "nbformat_minor": 2
}
